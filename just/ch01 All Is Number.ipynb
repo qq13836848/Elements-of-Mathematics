{
 "cells": [
  {
   "cell_type": "code",
   "execution_count": 19,
   "id": "028556d9",
   "metadata": {},
   "outputs": [
    {
     "data": {
      "text/plain": [
       "(3.141592653589793, 2.718281828459045, 1.4142135623730951)"
      ]
     },
     "execution_count": 19,
     "metadata": {},
     "output_type": "execute_result"
    }
   ],
   "source": [
    "import math\n",
    "\n",
    "math.pi, math.e, math.sqrt(2)"
   ]
  },
  {
   "cell_type": "code",
   "execution_count": 20,
   "id": "7679d807",
   "metadata": {},
   "outputs": [
    {
     "name": "stdout",
     "output_type": "stream",
     "text": [
      "3.1415926535897932384626433832795028841971693993751058209749445923078164062862089986280348253421170679821480865132823066470938446095505822317253594081284811174502841027019385211055596446229489549303819644288109756659334461284756482337867831652712019091456485669234603486104543266482133936072602491412737245870066063155881748815209209628292540917153643678925903600113305305488204665213841469519415116094330572703657595919530921861173819326117931051185480744623799627495673518857527248912279381830119491298336733624406566430860213949463952247371907021798609437027705392171762931767523846748184676694051320005681271452635608277857713427577896091736371787214684409012249534301465495853710507922796892589235420199561121290219608640344181598136297747713099605187072113499999983729780499510597317328160963185950244594553469083026425223082533446850352619311881710100031378387528865875332083814206171776691473035982534904287554687311595628638823537875937519577818577805321712268066130019278766111959092164201989\n",
      "+++++++\n",
      "2.7182818284590452353602874713526624977572470936999595749669676277240766303535475945713821785251664274274663919320030599218174135966290435729003342952605956307381323286279434907632338298807531952510190115738341879307021540891499348841675092447614606680822648001684774118537423454424371075390777449920695517027618386062613313845830007520449338265602976067371132007093287091274437470472306969772093101416928368190255151086574637721112523897844250569536967707854499699679468644549059879316368892300987931277361782154249992295763514822082698951936680331825288693984964651058209392398294887933203625094431173012381970684161403970198376793206832823764648042953118023287825098194558153017567173613320698112509961818815930416903515988885193458072738667385894228792284998920868058257492796104841984443634632449684875602336248270419786232090021609902353043699418491463140934317381436405462531520961836908887070167683964243781405927145635490613031072085103837505101157477041718986106873969655212671546889570350354\n",
      "1.4142135623730950488016887242096980785696718753769480731766797379907324784621070388503875343276415727350138462309122970249248360558507372126441214970999358314132226659275055927557999505011527820605714701095599716059702745345968620147285174186408891986095523292304843087143214508397626036279952514079896872533965463318088296406206152583523950547457502877599617298355752203375318570113543746034084988471603868999706990048150305440277903164542478230684929369186215805784631115966687130130156185689872372352885092648612494977154218334204285686060146824720771435854874155657069677653720226485447015858801620758474922657226002085584466521458398893944370926591800311388246468157082630100594858704003186480342194897278290641045072636881313739855256117322040245091227700226941127573627280495738108967504018369868368450725799364729060762996941380475654823728997180326802474420629269124859052181004459842150591120249441341728531478105803603371077309182869314710171111683916581726889419758716582152128229518488472\n",
      "+++++++\n"
     ]
    }
   ],
   "source": [
    "from mpmath import mp\n",
    "mp.dps = 1000 + 1\n",
    "print(mp.pi)\n",
    "print(\"+++++++\")\n",
    "print(mp.e)\n",
    "print(\"+++++++\")\n",
    "print(mp.sqrt(2))\n"
   ]
  },
  {
   "cell_type": "code",
   "execution_count": 17,
   "id": "239c9c5b",
   "metadata": {},
   "outputs": [
    {
     "name": "stdout",
     "output_type": "stream",
     "text": [
      "Enter a number: 1.23\n",
      "1.23 is not a integer \n"
     ]
    }
   ],
   "source": [
    "num = float(input(\"Enter a number: \"))\n",
    "\n",
    "if num.is_integer():\n",
    "    if(num % 2) == 0:\n",
    "        print(\"{0} is even \".format(int(num)))\n",
    "    else:\n",
    "        print(\"{0} is odd \".format(int(num)))\n",
    "else:\n",
    "    print(\"{0} is not a integer \". format(num))"
   ]
  },
  {
   "cell_type": "code",
   "execution_count": 21,
   "id": "a6f8733b",
   "metadata": {},
   "outputs": [
    {
     "name": "stdout",
     "output_type": "stream",
     "text": [
      "The sum of 2 and 3 is 5 \n"
     ]
    }
   ],
   "source": [
    "num1 = 2\n",
    "num2 = 3\n",
    "sum = num1 + num2\n",
    "print(\"The sum of {0} and {1} is {2} \".format(num1, num2, sum))"
   ]
  },
  {
   "cell_type": "code",
   "execution_count": 22,
   "id": "02c1f6a2",
   "metadata": {},
   "outputs": [
    {
     "name": "stdout",
     "output_type": "stream",
     "text": [
      "Enter first number: 2\n",
      "Enter second number: 3\n",
      "The sum of 2 and 3 is 5.0\n"
     ]
    }
   ],
   "source": [
    "num1 = input(\"Enter first number: \")\n",
    "num2 = input(\"Enter second number: \")\n",
    "sum = float(num1) + float(num2)\n",
    "print(\"The sum of {0} and {1} is {2}\".format(num1, num2, sum))"
   ]
  },
  {
   "cell_type": "code",
   "execution_count": 25,
   "id": "f0382ef4",
   "metadata": {},
   "outputs": [
    {
     "name": "stdout",
     "output_type": "stream",
     "text": [
      "[ 1.  2.  3.  4.  5.  6.  7.  8.  9. 10.]\n"
     ]
    },
    {
     "data": {
      "text/plain": [
       "array([ 1.,  3.,  6., 10., 15., 21., 28., 36., 45., 55.])"
      ]
     },
     "execution_count": 25,
     "metadata": {},
     "output_type": "execute_result"
    }
   ],
   "source": [
    "import numpy as np\n",
    "\n",
    "a_i = np.linspace(1, 10, 10)\n",
    "print(a_i)\n",
    "a_i_sum = np.cumsum(a_i)\n",
    "a_i_sum"
   ]
  },
  {
   "cell_type": "code",
   "execution_count": 27,
   "id": "99312035",
   "metadata": {},
   "outputs": [
    {
     "data": {
      "text/plain": [
       "2"
      ]
     },
     "execution_count": 27,
     "metadata": {},
     "output_type": "execute_result"
    }
   ],
   "source": [
    "num1 = 5\n",
    "num2 = 3\n",
    "diff = num1 - num2\n",
    "diff"
   ]
  },
  {
   "cell_type": "code",
   "execution_count": 32,
   "id": "a1b2b1b0",
   "metadata": {},
   "outputs": [
    {
     "data": {
      "text/plain": [
       "(array([[1, 2, 3]]),\n",
       " array([[1],\n",
       "        [2],\n",
       "        [3]]),\n",
       " array([[1],\n",
       "        [2],\n",
       "        [3]]),\n",
       " array([[1, 2, 3]]))"
      ]
     },
     "execution_count": 32,
     "metadata": {},
     "output_type": "execute_result"
    }
   ],
   "source": [
    "import numpy as np\n",
    "a_row = np.array([[1, 2, 3]])\n",
    "b = a_row.T\n",
    "b_col = np.array([[1], [2], [3]])\n",
    "a_row, a_row.T, b_col, b_col.T"
   ]
  },
  {
   "cell_type": "code",
   "execution_count": 33,
   "id": "36ae7f03",
   "metadata": {},
   "outputs": [
    {
     "data": {
      "text/plain": [
       "(array([1, 2, 3]), array([ True,  True,  True]))"
      ]
     },
     "execution_count": 33,
     "metadata": {},
     "output_type": "execute_result"
    }
   ],
   "source": [
    "a_row = np.array([1, 2, 3])\n",
    "a_row.T, a_row == a_row.T"
   ]
  },
  {
   "cell_type": "code",
   "execution_count": 45,
   "id": "16aae407",
   "metadata": {},
   "outputs": [
    {
     "data": {
      "text/plain": [
       "(array([1, 4]),\n",
       " array([[1],\n",
       "        [4]]))"
      ]
     },
     "execution_count": 45,
     "metadata": {},
     "output_type": "execute_result"
    }
   ],
   "source": [
    "A = np.array([[1,2,3],\n",
    "              [4,5,6]])\n",
    "\n",
    "A[:,0], A[:, [0]]"
   ]
  },
  {
   "cell_type": "code",
   "execution_count": 43,
   "id": "3a71e7b1",
   "metadata": {},
   "outputs": [
    {
     "data": {
      "text/plain": [
       "(array([[1, 2],\n",
       "        [4, 5]]),\n",
       " array([[1, 3],\n",
       "        [4, 6]]),\n",
       " array([[1, 2, 3]]))"
      ]
     },
     "execution_count": 43,
     "metadata": {},
     "output_type": "execute_result"
    }
   ],
   "source": [
    "A[:, [0,1]],A[:, [0, 2]],A[[0], :]"
   ]
  },
  {
   "cell_type": "code",
   "execution_count": 46,
   "id": "08225b3b",
   "metadata": {},
   "outputs": [
    {
     "data": {
      "text/plain": [
       "(array([[4, 5, 6]]), array([[4, 5, 6]]), array([4]))"
      ]
     },
     "execution_count": 46,
     "metadata": {},
     "output_type": "execute_result"
    }
   ],
   "source": [
    "A[[1], :],A[[1], :],A[[1], [0]]"
   ]
  },
  {
   "cell_type": "code",
   "execution_count": 50,
   "id": "723beb6c",
   "metadata": {},
   "outputs": [
    {
     "data": {
      "text/plain": [
       "[5, 7, 9]"
      ]
     },
     "execution_count": 50,
     "metadata": {},
     "output_type": "execute_result"
    }
   ],
   "source": [
    "list1=[1,2,3]\n",
    "list2=[4,5,6]\n",
    "\n",
    "[x + y for x, y in zip(list1, list2)]"
   ]
  },
  {
   "cell_type": "code",
   "execution_count": 51,
   "id": "131ffd92",
   "metadata": {},
   "outputs": [
    {
     "data": {
      "text/plain": [
       "array([5, 7, 9])"
      ]
     },
     "execution_count": 51,
     "metadata": {},
     "output_type": "execute_result"
    }
   ],
   "source": [
    "import numpy as np\n",
    "x = np.array(list1)\n",
    "y = np.array(list2)\n",
    "x + y"
   ]
  },
  {
   "cell_type": "code",
   "execution_count": 52,
   "id": "52dfdbd3",
   "metadata": {},
   "outputs": [
    {
     "data": {
      "text/plain": [
       "array([5, 7, 9])"
      ]
     },
     "execution_count": 52,
     "metadata": {},
     "output_type": "execute_result"
    }
   ],
   "source": [
    "np.add(list1, list2)"
   ]
  },
  {
   "cell_type": "code",
   "execution_count": 2,
   "id": "49ed7904",
   "metadata": {},
   "outputs": [
    {
     "data": {
      "text/plain": [
       "[[2, 2, 3], [4, 6, 6]]"
      ]
     },
     "execution_count": 2,
     "metadata": {},
     "output_type": "execute_result"
    }
   ],
   "source": [
    "A = [[1,2,3], \n",
    "     [4,5,6]]\n",
    "B = [[1,0,0],\n",
    "     [0,1,0]]\n",
    "\n",
    "A_plus_B = [[A[i][j] + B[i][j] for j in range(len(A[0]))] for i in range(len(A))]\n",
    "A_plus_B"
   ]
  },
  {
   "cell_type": "code",
   "execution_count": 4,
   "id": "ccbe98bc",
   "metadata": {},
   "outputs": [
    {
     "data": {
      "text/plain": [
       "array([[2, 2, 3],\n",
       "       [4, 6, 6]])"
      ]
     },
     "execution_count": 4,
     "metadata": {},
     "output_type": "execute_result"
    }
   ],
   "source": [
    "import numpy as np\n",
    "np.array(A) + np.array(B)"
   ]
  },
  {
   "cell_type": "code",
   "execution_count": 2,
   "id": "34b34116",
   "metadata": {},
   "outputs": [
    {
     "name": "stderr",
     "output_type": "stream",
     "text": [
      "2023-10-09 13:33:05.897 WARNING streamlit.runtime.state.session_state_proxy: Session state does not function when running a script without `streamlit run`\n",
      "2023-10-09 13:33:06.008 \n",
      "  \u001b[33m\u001b[1mWarning:\u001b[0m to view this Streamlit app on a browser, run it with the following\n",
      "  command:\n",
      "\n",
      "    streamlit run /Users/longguo/opt/anaconda3/envs/d2l/lib/python3.9/site-packages/ipykernel_launcher.py [ARGUMENTS]\n"
     ]
    },
    {
     "data": {
      "text/plain": [
       "DeltaGenerator()"
      ]
     },
     "execution_count": 2,
     "metadata": {},
     "output_type": "execute_result"
    },
    {
     "data": {
      "image/png": "[encoded data removed]",
      "text/plain": [
       "<Figure size 640x480 with 1 Axes>"
      ]
     },
     "metadata": {},
     "output_type": "display_data"
    }
   ],
   "source": [
    "from mpmath import mp\n",
    "import streamlit as st\n",
    "import numpy as np\n",
    "import matplotlib.pyplot as plt\n",
    "\n",
    "with st.sidebar:\n",
    "    num_digits = st.slider('Number of decimal digits:',\n",
    "                           min_value=10000,\n",
    "                           max_value=100000,\n",
    "                           step=10000)\n",
    "\n",
    "mp.dps = num_digits + 2\n",
    "pi_digits = mp.pi\n",
    "pi_digits = str(pi_digits)[2:]\n",
    "pi_digits_list = [int(x) for x in pi_digits]\n",
    "pi_digits_array = np.array(pi_digits_list)\n",
    "\n",
    "counts = np.bincount(pi_digits_array)\n",
    "\n",
    "fig, ax = plt.subplots()\n",
    "\n",
    "ax.barh(range(10), counts, align='center', edgecolor=[0.6,0.6,0.6])\n",
    "\n",
    "ax.spines['top'].set_visible(False)\n",
    "ax.spines['right'].set_visible(False)\n",
    "\n",
    "ax.set_xlabel('Count')\n",
    "ax.set_ylabel('Digit, 0~9')\n",
    "plt.yticks(range(10))\n",
    "st.pyplot(fig)"
   ]
  },
  {
   "cell_type": "code",
   "execution_count": 3,
   "id": "23fc43ac-808e-464d-8247-655addc83c21",
   "metadata": {},
   "outputs": [
    {
     "ename": "SyntaxError",
     "evalue": "invalid syntax (4081537461.py, line 1)",
     "output_type": "error",
     "traceback": [
      "\u001b[0;36m  Cell \u001b[0;32mIn[3], line 1\u001b[0;36m\u001b[0m\n\u001b[0;31m    python ./streamlit_ch01.py\u001b[0m\n\u001b[0m            ^\u001b[0m\n\u001b[0;31mSyntaxError\u001b[0m\u001b[0;31m:\u001b[0m invalid syntax\n"
     ]
    }
   ],
   "source": [
    "%run ./streamlit_ch01.py"
   ]
  },
  {
   "cell_type": "code",
   "execution_count": null,
   "id": "fc281a49-639e-4fff-8972-27a3a087c1e1",
   "metadata": {},
   "outputs": [],
   "source": []
  }
 ],
 "metadata": {
  "kernelspec": {
   "display_name": "Python 3 (ipykernel)",
   "language": "python",
   "name": "python3"
  },
  "language_info": {
   "codemirror_mode": {
    "name": "ipython",
    "version": 3
   },
   "file_extension": ".py",
   "mimetype": "text/x-python",
   "name": "python",
   "nbconvert_exporter": "python",
   "pygments_lexer": "ipython3",
   "version": "3.9.18"
  }
 },
 "nbformat": 4,
 "nbformat_minor": 5
}
