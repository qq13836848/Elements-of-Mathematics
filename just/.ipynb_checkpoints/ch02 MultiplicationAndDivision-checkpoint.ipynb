{
 "cells": [
  {
   "cell_type": "code",
   "execution_count": 1,
   "id": "363cef3d-d18d-4003-a251-ec00c9485260",
   "metadata": {},
   "outputs": [
    {
     "data": {
      "text/plain": [
       "6"
      ]
     },
     "execution_count": 1,
     "metadata": {},
     "output_type": "execute_result"
    }
   ],
   "source": [
    "num1 = 2\n",
    "num2 = 3\n",
    "prod = num1 * num2\n",
    "prod"
   ]
  },
  {
   "cell_type": "code",
   "execution_count": null,
   "id": "12be66a1-930a-45ed-b4fb-58a6823b3b68",
   "metadata": {},
   "outputs": [],
   "source": [
    "num = int(input(\"Enter an integer: \"))\n",
    "factorial = 1\n",
    "\n",
    "if num == 0:\n",
    "    print(\"The factorial of 0 is \", factorial)\n",
    "elif num < 0: \n",
    "    print(\"Factorial does not exist for negative numbers\")\n",
    "else: \n",
    "    for i in range(i, num + 1):\n",
    "        factorial = factorial*i\n",
    "    print(\"The factirial of\" num, \" is \", factorial)"
   ]
  }
 ],
 "metadata": {
  "kernelspec": {
   "display_name": "Python 3 (ipykernel)",
   "language": "python",
   "name": "python3"
  },
  "language_info": {
   "codemirror_mode": {
    "name": "ipython",
    "version": 3
   },
   "file_extension": ".py",
   "mimetype": "text/x-python",
   "name": "python",
   "nbconvert_exporter": "python",
   "pygments_lexer": "ipython3",
   "version": "3.9.18"
  }
 },
 "nbformat": 4,
 "nbformat_minor": 5
}
